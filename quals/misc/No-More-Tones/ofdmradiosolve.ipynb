{
 "cells": [
  {
   "cell_type": "code",
   "execution_count": 4,
   "metadata": {},
   "outputs": [],
   "source": [
    "import math\n",
    "import numpy as np\n",
    "\n",
    "from IPython.display import Audio\n",
    "from scipy.io import wavfile\n",
    "import scipy\n",
    "import random"
   ]
  },
  {
   "cell_type": "code",
   "execution_count": 5,
   "metadata": {},
   "outputs": [],
   "source": [
    "# Read ofdm.wav\n",
    "fs, data = wavfile.read('ofdm.wav')\n",
    "data = data[1234:-4321]"
   ]
  },
  {
   "cell_type": "code",
   "execution_count": 6,
   "metadata": {},
   "outputs": [
    {
     "name": "stdout",
     "output_type": "stream",
     "text": [
      "\n",
      "OFDM, or Orthogonal Frequency-Division Multiplexing, is a method of digital signal modulation where a single data stream is divided across multiple closely spaced frequencies. This technique is designed to maximize the efficiency of data transmission over a radio wave or other communication mediums. It's especially effective in environments susceptible to interference and signal fading.\n",
      "grey{0FDM_Modulat10n_M4g1c_4h398trh38rh9438}\n",
      "Here's how OFDM works:\n",
      "grey{0FDM_Modulat10n_M4g1c_4h398trh38rh9438}\n",
      "1. **Division of Spectrum:** OFDM works by dividing the spectrum into many closely spaced channels or subcarriers. Each subcarrier is modulated with a conventional modulation scheme, such as Quadrature Amplitude Modulation (QAM) or Phase Shift Keying (PSK).\n",
      "grey{0FDM_Modulat10n_M4g1c_4h398trh38rh9438}\n",
      "2. **Orthogonality:** The subcarriers are mathematically orthogonal to each other, meaning their cross-talk is minimized, which allows them to be packed closely together without interference. This orthogonality ensures that the demodulators can pick out their respective signals independently.\n",
      "grey{0FDM_Modulat10n_M4g1c_4h398trh38rh9438}\n",
      "3. **Efficient Data Handling:** By spreading the data over multiple subcarriers, OFDM can reduce the impact of channel impairments like multipath fading and interference. This is because the high data rate stream is broken down into multiple slower streams, which are more robust against such issues.\n",
      "grey{0FDM_Modulat10n_M4g1c_4h398trh38rh9438}\n",
      "4. **Use of Guard Intervals:** OFDM also employs guard intervals, which include cyclic prefixes to each symbol to combat time dispersion caused by multipath propagation. This helps in maintaining the integrity of the data transmitted.\n",
      "grey{0FDM_Modulat10n_M4g1c_4h398trh38rh9438}\n",
      "OFDM is widely used in various communication systems, including broadband Internet (DSL), wireless networks (Wi-Fi, LTE, 5G), digital television and radio broadcasting (DAB, DVB), and more. Its ability to handle severe channel conditions while providing high data rate and spectral efficiency makes it a popular choice in modern communication technologies.\n"
     ]
    }
   ],
   "source": [
    "diff_symbols = [0] * 8\n",
    "symbols = []\n",
    "for i in range(0, len(data), 40):\n",
    "    data_slice = data[i:i+40]\n",
    "    data_slice = data_slice[-32:]\n",
    "\n",
    "    # Compute the FFT\n",
    "    fft_data = np.fft.rfft(data_slice)\n",
    "    symbols = (np.real(fft_data)[4:12] > 0).astype(int)\n",
    "    for i in range(8):\n",
    "        diff_symbols[i] = diff_symbols[i] ^ symbols[i]\n",
    "    \n",
    "    val = 0\n",
    "    for i in range(7):\n",
    "        val = val | (diff_symbols[i] << i)\n",
    "    print(chr(val), end='')\n",
    "    if i > 10:\n",
    "        break\n"
   ]
  }
 ],
 "metadata": {
  "kernelspec": {
   "display_name": ".venv",
   "language": "python",
   "name": "python3"
  },
  "language_info": {
   "codemirror_mode": {
    "name": "ipython",
    "version": 3
   },
   "file_extension": ".py",
   "mimetype": "text/x-python",
   "name": "python",
   "nbconvert_exporter": "python",
   "pygments_lexer": "ipython3",
   "version": "3.11.8"
  }
 },
 "nbformat": 4,
 "nbformat_minor": 2
}
