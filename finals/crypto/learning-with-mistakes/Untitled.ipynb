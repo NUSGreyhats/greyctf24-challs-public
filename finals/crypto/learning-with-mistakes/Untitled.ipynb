{
 "cells": [
  {
   "cell_type": "code",
   "execution_count": 50,
   "id": "9d27184b",
   "metadata": {
    "scrolled": true
   },
   "outputs": [
    {
     "name": "stdout",
     "output_type": "stream",
     "text": [
      "e8bd8aa111d1548cb3810aa6bf9084ff47fde9c7e867edea8cdbb7a3577d885e14b551e1210416e304a7ab83411e7cd0db4238a52f06622b933054c2f05c9e41\n"
     ]
    }
   ],
   "source": [
    "from secrets import randbits\n",
    "from Crypto.Util.number import bytes_to_long, long_to_bytes\n",
    "import numpy as np\n",
    "from hashlib import sha512\n",
    "\n",
    "n = 500\n",
    "qbits = 32\n",
    "mbits = 4\n",
    "q = 2**qbits\n",
    "F = GF(q)\n",
    "x = F.gen()\n",
    "\n",
    "def int_to_F(n):\n",
    "    return sum(b*x**i for i,b in enumerate(map(int, bin(n)[2:][::-1])))\n",
    "\n",
    "def F_to_int(f):\n",
    "    return f.integer_representation()\n",
    "\n",
    "def gen_key():\n",
    "    return np.array([b for b in map(int, format(randbits(n), \"0500b\"))], dtype=object)\n",
    "\n",
    "def gen_a():\n",
    "    return np.array([int_to_F(randbits(qbits)) for _ in range(n)], dtype=object)\n",
    "\n",
    "def gen_noise():\n",
    "    return int_to_F(randbits(qbits - mbits))\n",
    "\n",
    "def encrypt_mbits(m, s):\n",
    "    a = gen_a()\n",
    "    f = np.vectorize(F_to_int)\n",
    "    m = int_to_F(m << (qbits - mbits))\n",
    "    return (f(a), F_to_int(np.dot(a, s) + m + gen_noise()))\n",
    "\n",
    "def decrypt_mbits(c, s):\n",
    "    a,b = c\n",
    "    f = np.vectorize(int_to_F)\n",
    "    a,b = f(a), int_to_F(b)\n",
    "    return F_to_int(b - np.dot(a,s)) >> (qbits - mbits)\n",
    "\n",
    "def encrypt_m(m, s):\n",
    "    m = bytes_to_long(m)\n",
    "    c = []\n",
    "    while m != 0:\n",
    "        mb = m & 0b1111\n",
    "        c.append(encrypt_mbits(mb, s))\n",
    "        m >>= 4\n",
    "    return c[::-1]\n",
    "\n",
    "def decrypt_m(c, s):\n",
    "    m = 0\n",
    "    for cb in c:\n",
    "        m <<= 4\n",
    "        mb = decrypt_mbits(cb, s)\n",
    "        m += int(mb)\n",
    "    return long_to_bytes(m)\n",
    "\n",
    "\n",
    "# https://www.daniellowengrub.com/blog/2024/01/03/fully-homomorphic-encryption\n",
    "message = b\"Original LWE use field GF(prime). TFHE use Mod(2^n). I use GF(2^n)\"\n",
    "key = gen_key()\n",
    "ciphertext = encrypt_m(message, key)\n",
    "assert decrypt_m(ciphertext, key) == message\n",
    "\n",
    "flag = b\"grey{I'm_flyin_soon_I'm-_rushing-this-challenge-rn-akeyhashjsdadsdasks}\"\n",
    "keyhash = sha512(long_to_bytes(int(''.join(map(str, key)), 2))).digest()\n",
    "flag_xored = bytes([a^^b for a,b in zip(flag, keyhash)]).hex()\n",
    "\n",
    "#print(ciphertext)\n",
    "print(flag_xored)"
   ]
  },
  {
   "cell_type": "code",
   "execution_count": 47,
   "id": "033fc79d",
   "metadata": {},
   "outputs": [
    {
     "data": {
      "text/plain": [
       "b'\\x08i}\\xfc$\\xf6\\xe0\\xd2\\xfb\\xed\\xc8J\\xc9\\xe4\\xa2\\xd3\\xd8n\\xf2\\xedS\\xcc\\xa4\\xf8\\x9ah\\x94\\xcc\\x06\\xa2\\xb8\\xca)\\x1d\\x8f.\\x06\\x8cI\\xc7\\x1c\\xf4\\x8fAU\\x16u&\\xc2+\\x94\\xcc\"\\xd2S\\xe8\\x06\\x17\\x9b\\xf2\\x8c\\xb3\\x0f'"
      ]
     },
     "execution_count": 47,
     "metadata": {},
     "output_type": "execute_result"
    }
   ],
   "source": []
  },
  {
   "cell_type": "code",
   "execution_count": 2,
   "id": "0dba9f47",
   "metadata": {},
   "outputs": [
    {
     "ename": "NameError",
     "evalue": "name 'mbs' is not defined",
     "output_type": "error",
     "traceback": [
      "\u001b[0;31m---------------------------------------------------------------------------\u001b[0m",
      "\u001b[0;31mNameError\u001b[0m                                 Traceback (most recent call last)",
      "\u001b[0;32m/tmp/ipykernel_1726/1371701380.py\u001b[0m in \u001b[0;36m<module>\u001b[0;34m\u001b[0m\n\u001b[0;32m----> 1\u001b[0;31m \u001b[0mmbs\u001b[0m\u001b[0;34m[\u001b[0m\u001b[0mInteger\u001b[0m\u001b[0;34m(\u001b[0m\u001b[0;36m0\u001b[0m\u001b[0;34m)\u001b[0m\u001b[0;34m]\u001b[0m\u001b[0;34m,\u001b[0m \u001b[0mencrupt_mb\u001b[0m\u001b[0;34m(\u001b[0m\u001b[0mmbs\u001b[0m\u001b[0;34m[\u001b[0m\u001b[0mInteger\u001b[0m\u001b[0;34m(\u001b[0m\u001b[0;36m0\u001b[0m\u001b[0;34m)\u001b[0m\u001b[0;34m]\u001b[0m\u001b[0;34m,\u001b[0m \u001b[0mkey\u001b[0m\u001b[0;34m)\u001b[0m\u001b[0;34m\u001b[0m\u001b[0;34m\u001b[0m\u001b[0m\n\u001b[0m",
      "\u001b[0;31mNameError\u001b[0m: name 'mbs' is not defined"
     ]
    }
   ],
   "source": [
    "mbs[0], encrupt_mb(mbs[0], key)"
   ]
  },
  {
   "cell_type": "code",
   "execution_count": 60,
   "id": "34799941",
   "metadata": {},
   "outputs": [
    {
     "name": "stdout",
     "output_type": "stream",
     "text": [
      "b\"grey{I'm_flyin_soon_I'm-_rushing-this-challenge-rn-ajsdadsdasks}\"\n"
     ]
    }
   ],
   "source": [
    "def split_m_into_mb(m):\n",
    "    m = bytes_to_long(m)\n",
    "    mbs = []\n",
    "    while m != 0:\n",
    "        mbs.append(m & 0b1111)\n",
    "        m >>= 4\n",
    "    return mbs[::-1]\n",
    "\n",
    "def eqns_from_ctbits(cb, mb):\n",
    "    a,b = cb\n",
    "    m_bitarr = [*map(int, format(mb, \"04b\"))]\n",
    "    m = vector(GF(2), [*map(int, format(mb, \"04b\"))])\n",
    "    A = matrix(GF(2), [[*map(int, format(l, \"032b\")[:mbits])] for l in a]).T\n",
    "    b = vector(GF(2), [*map(int, format(b, \"032b\")[:mbits])])\n",
    "    \n",
    "    # A * vector(GF(2), [*key]) + m - b = 0\n",
    "    return A, b - m\n",
    "    \n",
    "def matq_solve_right_all(mat, vec, q):\n",
    "    \"\"\"\n",
    "    Solves for all vectors u such that\n",
    "    `mat * u = vec`, where we are working\n",
    "    in ZZ/`q`ZZ.\n",
    "    \"\"\"\n",
    "    v = mat.solve_right(vec)\n",
    "    if is_prime(q):\n",
    "        return [v + k for k in mat.right_kernel()]\n",
    "    kernel = modq_kernel(mat, q)\n",
    "    if kernel.nrows() > 16: raise Exception(\"Too many solutions, regen challenge\")\n",
    "    unique_v = set(tuple(v + k) for k in FiniteZZsubmodule_iterator([*kernel]))\n",
    "    return list(vector(Zmod(q), v) for v in unique_v)\n",
    "\n",
    "mbs = split_m_into_mb(message)\n",
    "eqns = [eqns_from_ctbits(*x) for x in zip(ciphertext, mbs)]\n",
    "A = block_matrix([[a] for a,_ in eqns])\n",
    "m_b = [list(b) for _,b in eqns]\n",
    "m_b = vector(GF(2), [b for a in m_b for b in a])\n",
    "for pos_key in matq_solve_right_all(A, m_b, 2):\n",
    "    xor_stream = sha512(long_to_bytes(int(''.join(map(str, pos_key)), 2))).digest()\n",
    "    print(bytes([a^^b for a,b in zip(bytes.fromhex(flag_xored), xor_stream)]))"
   ]
  },
  {
   "cell_type": "code",
   "execution_count": 59,
   "id": "f22790ea",
   "metadata": {},
   "outputs": [
    {
     "data": {
      "text/plain": [
       "'XXXXXXXXXXXXXXXXXXXXXXXXXXXXXXXXXXXXXXXXXXXXXXXXXXXXXXXXXX'"
      ]
     },
     "execution_count": 59,
     "metadata": {},
     "output_type": "execute_result"
    }
   ],
   "source": [
    "len(\"I'm_flyin_soon_I'm-_rushing-this-challenge-rn-ajsdadsdasks\")*\"X\""
   ]
  },
  {
   "cell_type": "code",
   "execution_count": null,
   "id": "e8c455a0",
   "metadata": {},
   "outputs": [],
   "source": []
  },
  {
   "cell_type": "code",
   "execution_count": 74,
   "id": "c00864c0",
   "metadata": {},
   "outputs": [
    {
     "data": {
      "text/plain": [
       "102802"
      ]
     },
     "execution_count": 74,
     "metadata": {},
     "output_type": "execute_result"
    }
   ],
   "source": [
    "def int_to_F(n):\n",
    "    return sum(b*x**i for i,b in enumerate(map(int, bin(n)[2:][::-1])))\n",
    "\n",
    "def F_to_int(f):\n",
    "    return f.integer_representation()\n",
    "\n",
    "F_to_int(int_to_F(102802))"
   ]
  },
  {
   "cell_type": "code",
   "execution_count": null,
   "id": "ff1ffaf1",
   "metadata": {},
   "outputs": [],
   "source": []
  },
  {
   "cell_type": "code",
   "execution_count": null,
   "id": "8bfae497",
   "metadata": {},
   "outputs": [],
   "source": []
  }
 ],
 "metadata": {
  "kernelspec": {
   "display_name": "SageMath 9.6",
   "language": "sage",
   "name": "sagemath"
  },
  "language_info": {
   "codemirror_mode": {
    "name": "ipython",
    "version": 3
   },
   "file_extension": ".py",
   "mimetype": "text/x-python",
   "name": "python",
   "nbconvert_exporter": "python",
   "pygments_lexer": "ipython3",
   "version": "3.8.10"
  }
 },
 "nbformat": 4,
 "nbformat_minor": 5
}
